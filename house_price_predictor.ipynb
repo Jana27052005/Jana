{
 "cells": [
  {
   "cell_type": "markdown",
   "id": "22fbaf8b",
   "metadata": {},
   "source": [
    "### 1. Upload the Dataset"
   ]
  },
  {
   "cell_type": "code",
   "execution_count": null,
   "id": "377d2375",
   "metadata": {},
   "outputs": [],
   "source": [
    "from google.colab import files\n",
    "uploaded = files.upload()"
   ]
  },
  {
   "cell_type": "markdown",
   "id": "33c6d6d7",
   "metadata": {},
   "source": [
    "### 2. Load the Dataset"
   ]
  },
  {
   "cell_type": "code",
   "execution_count": null,
   "id": "f8175dcd",
   "metadata": {},
   "outputs": [],
   "source": [
    "import pandas as pd\n",
    "df = pd.read_csv('full_house_price_dataset.csv')\n",
    "df.head()"
   ]
  },
  {
   "cell_type": "markdown",
   "id": "2a6e748a",
   "metadata": {},
   "source": [
    "### 3. Data Exploration"
   ]
  },
  {
   "cell_type": "code",
   "execution_count": null,
   "id": "1b9fc707",
   "metadata": {},
   "outputs": [],
   "source": [
    "df.info()\n",
    "df.describe()"
   ]
  },
  {
   "cell_type": "markdown",
   "id": "a79b6eea",
   "metadata": {},
   "source": [
    "### 4. Check for Missing Values and Duplicates"
   ]
  },
  {
   "cell_type": "code",
   "execution_count": null,
   "id": "7c02c01e",
   "metadata": {},
   "outputs": [],
   "source": [
    "print(df.isnull().sum())\n",
    "print(\"Duplicates:\", df.duplicated().sum())"
   ]
  },
  {
   "cell_type": "markdown",
   "id": "8ec5c5e0",
   "metadata": {},
   "source": [
    "### 5. Visualize a Few Features"
   ]
  },
  {
   "cell_type": "code",
   "execution_count": null,
   "id": "25e99cf0",
   "metadata": {},
   "outputs": [],
   "source": [
    "import seaborn as sns\n",
    "import matplotlib.pyplot as plt\n",
    "\n",
    "sns.histplot(df['Price'], kde=True)\n",
    "plt.title(\"Distribution of House Prices\")\n",
    "plt.show()"
   ]
  },
  {
   "cell_type": "markdown",
   "id": "4df487c6",
   "metadata": {},
   "source": [
    "### 6. Identify Target and Features"
   ]
  },
  {
   "cell_type": "code",
   "execution_count": null,
   "id": "d1dfb627",
   "metadata": {},
   "outputs": [],
   "source": [
    "X = df.drop('Price', axis=1)\n",
    "y = df['Price']"
   ]
  },
  {
   "cell_type": "markdown",
   "id": "22625bcf",
   "metadata": {},
   "source": [
    "### 7. Convert Categorical Columns to Numerical"
   ]
  },
  {
   "cell_type": "code",
   "execution_count": null,
   "id": "5c5ae089",
   "metadata": {},
   "outputs": [],
   "source": [
    "categorical_cols = X.select_dtypes(include='object').columns\n",
    "X[categorical_cols] = X[categorical_cols].astype('category')"
   ]
  },
  {
   "cell_type": "markdown",
   "id": "6581678a",
   "metadata": {},
   "source": [
    "### 8. One-Hot Encoding"
   ]
  },
  {
   "cell_type": "code",
   "execution_count": null,
   "id": "f8294281",
   "metadata": {},
   "outputs": [],
   "source": [
    "X = pd.get_dummies(X, drop_first=True)"
   ]
  },
  {
   "cell_type": "markdown",
   "id": "01c002d3",
   "metadata": {},
   "source": [
    "### 9. Feature Scaling"
   ]
  },
  {
   "cell_type": "code",
   "execution_count": null,
   "id": "3805b31d",
   "metadata": {},
   "outputs": [],
   "source": [
    "from sklearn.preprocessing import StandardScaler\n",
    "\n",
    "scaler = StandardScaler()\n",
    "X_scaled = scaler.fit_transform(X)"
   ]
  },
  {
   "cell_type": "markdown",
   "id": "c041925f",
   "metadata": {},
   "source": [
    "### 10. Train-Test Split"
   ]
  },
  {
   "cell_type": "code",
   "execution_count": null,
   "id": "a558e431",
   "metadata": {},
   "outputs": [],
   "source": [
    "from sklearn.model_selection import train_test_split\n",
    "\n",
    "X_train, X_test, y_train, y_test = train_test_split(X_scaled, y, test_size=0.2, random_state=42)"
   ]
  },
  {
   "cell_type": "markdown",
   "id": "c9152cf3",
   "metadata": {},
   "source": [
    "### 11. Model Building"
   ]
  },
  {
   "cell_type": "code",
   "execution_count": null,
   "id": "062f5d00",
   "metadata": {},
   "outputs": [],
   "source": [
    "from sklearn.linear_model import LinearRegression\n",
    "\n",
    "model = LinearRegression()\n",
    "model.fit(X_train, y_train)"
   ]
  },
  {
   "cell_type": "markdown",
   "id": "94bec09c",
   "metadata": {},
   "source": [
    "### 12. Evaluation"
   ]
  },
  {
   "cell_type": "code",
   "execution_count": null,
   "id": "0fd2b166",
   "metadata": {},
   "outputs": [],
   "source": [
    "from sklearn.metrics import mean_squared_error, r2_score\n",
    "\n",
    "y_pred = model.predict(X_test)\n",
    "print(\"RMSE:\", mean_squared_error(y_test, y_pred, squared=False))\n",
    "print(\"R² Score:\", r2_score(y_test, y_pred))"
   ]
  },
  {
   "cell_type": "markdown",
   "id": "dbdb5233",
   "metadata": {},
   "source": [
    "### 13. Make Predictions from New Input"
   ]
  },
  {
   "cell_type": "code",
   "execution_count": null,
   "id": "d6039ec4",
   "metadata": {},
   "outputs": [],
   "source": [
    "sample_input = X_test[0].reshape(1, -1)\n",
    "predicted_price = model.predict(sample_input)\n",
    "print(\"Predicted Price:\", predicted_price[0])"
   ]
  },
  {
   "cell_type": "markdown",
   "id": "58b68562",
   "metadata": {},
   "source": [
    "### 14. Convert to DataFrame and Encode"
   ]
  },
  {
   "cell_type": "code",
   "execution_count": null,
   "id": "8a107be0",
   "metadata": {},
   "outputs": [],
   "source": [
    "def prepare_input(data_dict):\n",
    "    input_df = pd.DataFrame([data_dict])\n",
    "    input_df = pd.get_dummies(input_df)\n",
    "    input_df = input_df.reindex(columns=X.columns, fill_value=0)\n",
    "    return scaler.transform(input_df)"
   ]
  },
  {
   "cell_type": "markdown",
   "id": "388d5138",
   "metadata": {},
   "source": [
    "### 15. Predict the Final Price"
   ]
  },
  {
   "cell_type": "code",
   "execution_count": null,
   "id": "74fa77da",
   "metadata": {},
   "outputs": [],
   "source": [
    "def predict_price(data_dict):\n",
    "    processed = prepare_input(data_dict)\n",
    "    return model.predict(processed)[0]"
   ]
  },
  {
   "cell_type": "markdown",
   "id": "9a18f450",
   "metadata": {},
   "source": [
    "### 16. Deployment – Building an Interactive App"
   ]
  },
  {
   "cell_type": "code",
   "execution_count": null,
   "id": "f3554c33",
   "metadata": {},
   "outputs": [],
   "source": [
    "!pip install gradio"
   ]
  },
  {
   "cell_type": "markdown",
   "id": "c23ac750",
   "metadata": {},
   "source": [
    "### 17. Create a Prediction Function"
   ]
  },
  {
   "cell_type": "code",
   "execution_count": null,
   "id": "a9c164c5",
   "metadata": {},
   "outputs": [],
   "source": [
    "def predict_interface(bedrooms, bathrooms, sqft, location):\n",
    "    input_data = {\n",
    "        'Bedrooms': bedrooms,\n",
    "        'Bathrooms': bathrooms,\n",
    "        'SquareFeet': sqft,\n",
    "        'Location': location\n",
    "    }\n",
    "    return predict_price(input_data)"
   ]
  },
  {
   "cell_type": "markdown",
   "id": "aafcd7e8",
   "metadata": {},
   "source": [
    "### 18. Create the Gradio Interface"
   ]
  },
  {
   "cell_type": "code",
   "execution_count": null,
   "id": "338d52c4",
   "metadata": {},
   "outputs": [],
   "source": [
    "import gradio as gr\n",
    "\n",
    "demo = gr.Interface(\n",
    "    fn=predict_interface,\n",
    "    inputs=[\n",
    "        gr.Number(label=\"Bedrooms\"),\n",
    "        gr.Number(label=\"Bathrooms\"),\n",
    "        gr.Number(label=\"Square Feet\"),\n",
    "        gr.Textbox(label=\"Location\")\n",
    "    ],\n",
    "    outputs=\"number\",\n",
    "    title=\"House Price Predictor\"\n",
    ")\n",
    "\n",
    "demo.launch()"
   ]
  },
  {
   "cell_type": "markdown",
   "id": "62b3d626",
   "metadata": {},
   "source": [
    "### 19. 🎓 House Price Predictor"
   ]
  }
 ],
 "metadata": {},
 "nbformat": 4,
 "nbformat_minor": 5
}
